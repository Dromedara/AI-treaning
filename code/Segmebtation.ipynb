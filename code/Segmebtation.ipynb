{
  "cells": [
    {
      "cell_type": "markdown",
      "metadata": {
        "id": "view-in-github",
        "colab_type": "text"
      },
      "source": [
        "<a href=\"https://colab.research.google.com/github/Dromedara/AI-treaning/blob/main/code/Segmebtation.ipynb\" target=\"_parent\"><img src=\"https://colab.research.google.com/assets/colab-badge.svg\" alt=\"Open In Colab\"/></a>"
      ]
    },
    {
      "cell_type": "code",
      "execution_count": null,
      "metadata": {
        "colab": {
          "base_uri": "https://localhost:8080/"
        },
        "id": "7857d320-624a-4aaf-be46-c6af7fe78270",
        "outputId": "35bb1dc2-70eb-4937-cbfc-27f82caaf356"
      },
      "outputs": [
        {
          "output_type": "stream",
          "name": "stdout",
          "text": [
            "Looking in indexes: https://pypi.org/simple, https://us-python.pkg.dev/colab-wheels/public/simple/\n",
            "Requirement already satisfied: cython in /usr/local/lib/python3.7/dist-packages (0.29.30)\n",
            "Looking in indexes: https://pypi.org/simple, https://us-python.pkg.dev/colab-wheels/public/simple/\n",
            "Collecting git+https://github.com/cocodataset/cocoapi.git#subdirectory=PythonAPI\n",
            "  Cloning https://github.com/cocodataset/cocoapi.git to /tmp/pip-req-build-y37giax4\n",
            "  Running command git clone -q https://github.com/cocodataset/cocoapi.git /tmp/pip-req-build-y37giax4\n",
            "Requirement already satisfied: setuptools>=18.0 in /usr/local/lib/python3.7/dist-packages (from pycocotools==2.0) (57.4.0)\n",
            "Requirement already satisfied: cython>=0.27.3 in /usr/local/lib/python3.7/dist-packages (from pycocotools==2.0) (0.29.30)\n",
            "Requirement already satisfied: matplotlib>=2.1.0 in /usr/local/lib/python3.7/dist-packages (from pycocotools==2.0) (3.2.2)\n",
            "Requirement already satisfied: python-dateutil>=2.1 in /usr/local/lib/python3.7/dist-packages (from matplotlib>=2.1.0->pycocotools==2.0) (2.8.2)\n",
            "Requirement already satisfied: pyparsing!=2.0.4,!=2.1.2,!=2.1.6,>=2.0.1 in /usr/local/lib/python3.7/dist-packages (from matplotlib>=2.1.0->pycocotools==2.0) (3.0.9)\n",
            "Requirement already satisfied: numpy>=1.11 in /usr/local/lib/python3.7/dist-packages (from matplotlib>=2.1.0->pycocotools==2.0) (1.21.6)\n",
            "Requirement already satisfied: kiwisolver>=1.0.1 in /usr/local/lib/python3.7/dist-packages (from matplotlib>=2.1.0->pycocotools==2.0) (1.4.4)\n",
            "Requirement already satisfied: cycler>=0.10 in /usr/local/lib/python3.7/dist-packages (from matplotlib>=2.1.0->pycocotools==2.0) (0.11.0)\n",
            "Requirement already satisfied: typing-extensions in /usr/local/lib/python3.7/dist-packages (from kiwisolver>=1.0.1->matplotlib>=2.1.0->pycocotools==2.0) (4.1.1)\n",
            "Requirement already satisfied: six>=1.5 in /usr/local/lib/python3.7/dist-packages (from python-dateutil>=2.1->matplotlib>=2.1.0->pycocotools==2.0) (1.15.0)\n",
            "Building wheels for collected packages: pycocotools\n",
            "  Building wheel for pycocotools (setup.py) ... \u001b[?25l\u001b[?25hdone\n",
            "  Created wheel for pycocotools: filename=pycocotools-2.0-cp37-cp37m-linux_x86_64.whl size=265172 sha256=3c50478652c14f1c4a0a271b189bfd4bc6baac1af61a71d1365e0dc0cd3999e2\n",
            "  Stored in directory: /tmp/pip-ephem-wheel-cache-do6qg2rn/wheels/e2/6b/1d/344ac773c7495ea0b85eb228bc66daec7400a143a92d36b7b1\n",
            "Successfully built pycocotools\n",
            "Installing collected packages: pycocotools\n",
            "  Attempting uninstall: pycocotools\n",
            "    Found existing installation: pycocotools 2.0.4\n",
            "    Uninstalling pycocotools-2.0.4:\n",
            "      Successfully uninstalled pycocotools-2.0.4\n",
            "Successfully installed pycocotools-2.0\n"
          ]
        },
        {
          "output_type": "execute_result",
          "data": {
            "text/plain": [
              ""
            ]
          },
          "metadata": {},
          "execution_count": 1
        }
      ],
      "source": [
        "#1\n",
        "%%shell\n",
        "\n",
        "pip install cython\n",
        "# Install pycocotools, the version by default in Colab\n",
        "# has a bug fixed in https://github.com/cocodataset/cocoapi/pull/354\n",
        "pip install -U 'git+https://github.com/cocodataset/cocoapi.git#subdirectory=PythonAPI'"
      ],
      "id": "7857d320-624a-4aaf-be46-c6af7fe78270"
    },
    {
      "cell_type": "code",
      "execution_count": null,
      "metadata": {
        "colab": {
          "base_uri": "https://localhost:8080/"
        },
        "id": "ldfnePnqPTA2",
        "outputId": "16644f51-64fe-4e95-9178-c190223514e2"
      },
      "outputs": [
        {
          "output_type": "stream",
          "name": "stdout",
          "text": [
            "Cloning into 'vision'...\n",
            "remote: Enumerating objects: 177859, done.\u001b[K\n",
            "remote: Counting objects: 100% (10244/10244), done.\u001b[K\n",
            "remote: Compressing objects: 100% (672/672), done.\u001b[K\n",
            "remote: Total 177859 (delta 9647), reused 10097 (delta 9551), pack-reused 167615\u001b[K\n",
            "Receiving objects: 100% (177859/177859), 350.90 MiB | 16.88 MiB/s, done.\n",
            "Resolving deltas: 100% (159253/159253), done.\n",
            "Note: checking out 'v0.8.2'.\n",
            "\n",
            "You are in 'detached HEAD' state. You can look around, make experimental\n",
            "changes and commit them, and you can discard any commits you make in this\n",
            "state without impacting any branches by performing another checkout.\n",
            "\n",
            "If you want to create a new branch to retain commits you create, you may\n",
            "do so (now or later) by using -b with the checkout command again. Example:\n",
            "\n",
            "  git checkout -b <new-branch-name>\n",
            "\n",
            "HEAD is now at 2f40a483d [v0.8.X] .circleci: Add Python 3.9 to CI (#3063)\n"
          ]
        },
        {
          "output_type": "execute_result",
          "data": {
            "text/plain": [
              ""
            ]
          },
          "metadata": {},
          "execution_count": 2
        }
      ],
      "source": [
        "#2\n",
        "%%shell\n",
        "\n",
        "# Download TorchVision repo to use some files from\n",
        "# references/detection\n",
        "git clone https://github.com/pytorch/vision.git\n",
        "cd vision\n",
        "git checkout v0.8.2\n",
        "\n",
        "cp references/detection/utils.py ../\n",
        "cp references/detection/transforms.py ../\n",
        "cp references/detection/coco_eval.py ../\n",
        "cp references/detection/engine.py ../\n",
        "cp references/detection/coco_utils.py ../"
      ],
      "id": "ldfnePnqPTA2"
    },
    {
      "cell_type": "code",
      "execution_count": null,
      "metadata": {
        "colab": {
          "base_uri": "https://localhost:8080/"
        },
        "id": "Zvfn-HwYPtaR",
        "outputId": "06f5aacb-d120-47c2-ddc8-b7da74c6ecdd"
      },
      "outputs": [
        {
          "output_type": "stream",
          "name": "stdout",
          "text": [
            "Mounted at ./drive\n"
          ]
        }
      ],
      "source": [
        "#3\n",
        "from google.colab import drive\n",
        "drive.mount('./drive')"
      ],
      "id": "Zvfn-HwYPtaR"
    },
    {
      "cell_type": "code",
      "execution_count": 98,
      "metadata": {
        "id": "1425ff1d-10b8-4de6-b737-3604c2b171b3"
      },
      "outputs": [],
      "source": [
        "#4\n",
        "import torch.nn as nn\n",
        "import cv2\n",
        "import copy\n",
        "import json"
      ],
      "id": "1425ff1d-10b8-4de6-b737-3604c2b171b3"
    },
    {
      "cell_type": "code",
      "execution_count": null,
      "metadata": {
        "id": "f5da208e-d2c1-4cf5-929c-931d042a1a8e"
      },
      "outputs": [],
      "source": [
        "#5\n",
        "from PIL import Image, ImageDraw\n",
        "\n",
        "def mask_from_coco(img, target):\n",
        "    img = np.array(img)\n",
        "    \n",
        "    polygon = target['segmentation'][0]\n",
        "    img = Image.new('L', (img.shape[1], img.shape[0]), 0)\n",
        "    try:\n",
        "      ImageDraw.Draw(img).polygon(polygon, outline=1, fill=1)\n",
        "    except:\n",
        "      print(target['image_id'])\n",
        "      raise\n",
        "      \n",
        "    mask = np.array(img)\n",
        "    \n",
        "    return mask"
      ],
      "id": "f5da208e-d2c1-4cf5-929c-931d042a1a8e"
    },
    {
      "cell_type": "code",
      "execution_count": null,
      "metadata": {
        "id": "2e0737e2-df79-43d7-99fc-888d3a421495"
      },
      "outputs": [],
      "source": [
        "#6\n",
        "import os\n",
        "import numpy as np\n",
        "import torch\n",
        "from PIL import Image\n",
        "import json\n",
        "\n",
        "\n",
        "class ArucoDataset(torch.utils.data.Dataset):\n",
        "    def __init__(self, root, annFile, transforms):\n",
        "        self.root = root\n",
        "        \n",
        "        with open('drive/MyDrive/VisionProject/Dataset/Labels.json') as f:\n",
        "          labels = json.load(f)\n",
        "\n",
        "          self.annotations = list(filter(lambda x: len(x['segmentation'][0]) > 2, labels['annotations']))\n",
        "          self.id2file = {\n",
        "              meta['id']: meta['file_name']\n",
        "              for meta in labels['images']\n",
        "          }\n",
        "\n",
        "        self.transforms = transforms\n",
        "        \n",
        "    def __getitem__(self, idx):\n",
        "        if not isinstance(idx, int):\n",
        "            idx = idx.item()\n",
        "\n",
        "        target = copy.deepcopy(self.annotations[idx])\n",
        "        \n",
        "        # load images and masks\n",
        "        img = cv2.imread(\n",
        "            os.path.join(\n",
        "                self.root, \n",
        "                self.id2file[target['image_id']]\n",
        "            ),\n",
        "            cv2.IMREAD_GRAYSCALE\n",
        "        )\n",
        "\n",
        "        mask = mask_from_coco(img, target)\n",
        "        \n",
        "        target['bbox'][2] += target['bbox'][0]\n",
        "        target['bbox'][3] += target['bbox'][1]\n",
        "        \n",
        "        boxes = torch.Tensor([target['bbox']])\n",
        "        \n",
        "        target['masks'] = torch.as_tensor([mask], dtype=torch.uint8)\n",
        "        target['boxes'] = boxes\n",
        "        target['labels'] = torch.tensor([1], dtype=torch.int64)\n",
        "        target['area'] = (boxes[:, 3] - boxes[:, 1]) * (boxes[:, 2] - boxes[:, 0])\n",
        "        target['iscrowd'] = torch.tensor([target['iscrowd']])\n",
        "        target['image_id'] = torch.tensor([idx])\n",
        "        target['id'] = torch.tensor([idx])\n",
        "\n",
        "        del target['category_id']\n",
        "        del target['segmentation']\n",
        "\n",
        "        for key, value in target.items():\n",
        "            target[key] = torch.tensor(value)\n",
        "            \n",
        "        if self.transforms is not None:\n",
        "            img, target = self.transforms(img, target)\n",
        "\n",
        "        return img, target\n",
        "\n",
        "    def __len__(self):\n",
        "        return len(self.annotations)"
      ],
      "id": "2e0737e2-df79-43d7-99fc-888d3a421495"
    },
    {
      "cell_type": "code",
      "execution_count": null,
      "metadata": {
        "id": "4be23777-205d-473a-a164-394164ccad03"
      },
      "outputs": [],
      "source": [
        "#7\n",
        "import torchvision\n",
        "from torchvision.models.detection.faster_rcnn import FastRCNNPredictor\n",
        "from torchvision.models.detection.mask_rcnn import MaskRCNNPredictor\n",
        "\n",
        "\n",
        "def get_instance_segmentation_model(num_classes):\n",
        "    # load an instance segmentation model pre-trained on COCO\n",
        "    model = torchvision.models.detection.maskrcnn_resnet50_fpn(pretrained=True)\n",
        "\n",
        "    # get number of input features for the classifier\n",
        "    in_features = model.roi_heads.box_predictor.cls_score.in_features\n",
        "    # replace the pre-trained head with a new one\n",
        "    model.roi_heads.box_predictor = FastRCNNPredictor(in_features, num_classes)\n",
        "\n",
        "    # now get the number of input features for the mask classifier\n",
        "    in_features_mask = model.roi_heads.mask_predictor.conv5_mask.in_channels\n",
        "    hidden_layer = 256\n",
        "    # and replace the mask predictor with a new one\n",
        "    model.roi_heads.mask_predictor = MaskRCNNPredictor(in_features_mask,\n",
        "                                                       hidden_layer,\n",
        "                                                       num_classes)\n",
        "\n",
        "    return model"
      ],
      "id": "4be23777-205d-473a-a164-394164ccad03"
    },
    {
      "cell_type": "code",
      "execution_count": null,
      "metadata": {
        "id": "c44aeaa1-7f34-43e4-a17c-2ace3cd41db6"
      },
      "outputs": [],
      "source": [
        "#8\n",
        "import transforms as T\n",
        "\n",
        "def get_transform(train):\n",
        "    transforms = []\n",
        "    transforms.append(T.ToTensor())\n",
        "    if train:\n",
        "        transforms.append(T.RandomHorizontalFlip(0.5))\n",
        "    return T.Compose(transforms)"
      ],
      "id": "c44aeaa1-7f34-43e4-a17c-2ace3cd41db6"
    },
    {
      "cell_type": "code",
      "source": [
        "#9\n",
        "import utils"
      ],
      "metadata": {
        "id": "voXpv9nIhwEr"
      },
      "id": "voXpv9nIhwEr",
      "execution_count": null,
      "outputs": []
    },
    {
      "cell_type": "code",
      "execution_count": null,
      "metadata": {
        "id": "70199d87-9c00-4aca-a63a-64cbd3836892"
      },
      "outputs": [],
      "source": [
        "#10\n",
        "\n",
        "# use our dataset and defined transformations\n",
        "dataset = ArucoDataset('drive/MyDrive/VisionProject/Dataset/Data/', 'drive/MyDrive/VisionProject/Dataset/Labels.json', get_transform(train=True))\n",
        "dataset_test = ArucoDataset('drive/MyDrive/VisionProject/Dataset/Data/', 'drive/MyDrive/VisionProject/Dataset/Labels.json', get_transform(train=False))\n",
        "\n",
        "# split the dataset in train and test set\n",
        "torch.manual_seed(1)\n",
        "indices = torch.randperm(len(dataset)).tolist()\n",
        "\n",
        "test_size = 320\n",
        "\n",
        "dataset = torch.utils.data.Subset(dataset, indices[:-test_size])\n",
        "dataset_test = torch.utils.data.Subset(dataset_test, indices[-test_size:])\n",
        "\n",
        "print(len(dataset), len(dataset_test))\n",
        "\n",
        "# define training and validation data loaders\n",
        "data_loader = torch.utils.data.DataLoader(\n",
        "    dataset, batch_size=2, shuffle=True,\n",
        "    collate_fn=utils.collate_fn)\n",
        "\n",
        "data_loader_test = torch.utils.data.DataLoader(\n",
        "    dataset_test, batch_size=1, shuffle=False,\n",
        "    collate_fn=utils.collate_fn)"
      ],
      "id": "70199d87-9c00-4aca-a63a-64cbd3836892"
    },
    {
      "cell_type": "code",
      "execution_count": null,
      "metadata": {
        "colab": {
          "base_uri": "https://localhost:8080/",
          "height": 156,
          "referenced_widgets": [
            "b686fb3ade3f46978e7d4e6f64413d97",
            "c79942e788b24e788cf357c173924be4",
            "d6e16b2e567b43a09bc0c0d2d1d35d38",
            "d432bd38d992460e8cf8081d753710c2",
            "9dff6c94b4ed4dc0ba5e894eec2e61c5",
            "d8a62849986b4b4bbf857450493f0f47",
            "03c73cff8fb94f4ba50f3ee647cead4e",
            "f6f502440cd5463ea2733f092655e4a3",
            "206b194e89e84425926fa16128a54bb1",
            "2158238a9fbb42978b583f9a8e266171",
            "2a67e722bb9144f582dc944cc77f4aae"
          ]
        },
        "id": "3e9749a2-8fd0-4711-88c8-9cbcab59d7f2",
        "outputId": "0298d610-71b1-48c0-e92e-de326db8cbce"
      },
      "outputs": [
        {
          "output_type": "stream",
          "name": "stderr",
          "text": [
            "/usr/local/lib/python3.7/dist-packages/torchvision/models/_utils.py:209: UserWarning: The parameter 'pretrained' is deprecated since 0.13 and will be removed in 0.15, please use 'weights' instead.\n",
            "  f\"The parameter '{pretrained_param}' is deprecated since 0.13 and will be removed in 0.15, \"\n",
            "/usr/local/lib/python3.7/dist-packages/torchvision/models/_utils.py:223: UserWarning: Arguments other than a weight enum or `None` for 'weights' are deprecated since 0.13 and will be removed in 0.15. The current behavior is equivalent to passing `weights=MaskRCNN_ResNet50_FPN_Weights.COCO_V1`. You can also use `weights=MaskRCNN_ResNet50_FPN_Weights.DEFAULT` to get the most up-to-date weights.\n",
            "  warnings.warn(msg)\n",
            "Downloading: \"https://download.pytorch.org/models/maskrcnn_resnet50_fpn_coco-bf2d0c1e.pth\" to /root/.cache/torch/hub/checkpoints/maskrcnn_resnet50_fpn_coco-bf2d0c1e.pth\n"
          ]
        },
        {
          "output_type": "display_data",
          "data": {
            "text/plain": [
              "  0%|          | 0.00/170M [00:00<?, ?B/s]"
            ],
            "application/vnd.jupyter.widget-view+json": {
              "version_major": 2,
              "version_minor": 0,
              "model_id": "b686fb3ade3f46978e7d4e6f64413d97"
            }
          },
          "metadata": {}
        }
      ],
      "source": [
        "# 11\n",
        "\n",
        "device = torch.device('cuda') if torch.cuda.is_available() else torch.device('cpu')\n",
        "\n",
        "# our dataset has two classes only - background and person\n",
        "num_classes = 2\n",
        "\n",
        "# get the model using our helper function\n",
        "model = get_instance_segmentation_model(num_classes)\n",
        "# move model to the right device\n",
        "model.to(device)\n",
        "\n",
        "# construct an optimizer\n",
        "params = [p for p in model.parameters() if p.requires_grad]\n",
        "optimizer = torch.optim.SGD(params, lr=0.005,\n",
        "                            momentum=0.9, weight_decay=0.0005)\n",
        "\n",
        "# and a learning rate scheduler which decreases the learning rate by\n",
        "# 10x every 3 epochs\n",
        "lr_scheduler = torch.optim.lr_scheduler.StepLR(optimizer,\n",
        "                                               step_size=3,\n",
        "                                               gamma=0.1)"
      ],
      "id": "3e9749a2-8fd0-4711-88c8-9cbcab59d7f2"
    },
    {
      "cell_type": "code",
      "execution_count": null,
      "metadata": {
        "id": "SpuxqasxQfu7"
      },
      "outputs": [],
      "source": [
        "# 12\n",
        "\n",
        "from engine import train_one_epoch, evaluate"
      ],
      "id": "SpuxqasxQfu7"
    },
    {
      "cell_type": "code",
      "execution_count": null,
      "metadata": {
        "id": "880bcc81-5dd5-40ec-ab45-602c60c27014"
      },
      "outputs": [],
      "source": [
        "# 13\n",
        "\n",
        "# let's train it for 10 epochs\n",
        "from torch.optim.lr_scheduler import StepLR\n",
        "num_epochs = 10\n",
        "\n",
        "for epoch in range(num_epochs):\n",
        "    # train for one epoch, printing every 10 iterations\n",
        "    train_one_epoch(model, optimizer, data_loader, device, epoch, print_freq=10)\n",
        "    # update the learning rate\n",
        "    lr_scheduler.step()\n",
        "    # evaluate on the test dataset\n",
        "    evaluate(model, data_loader_test, device=device)"
      ],
      "id": "880bcc81-5dd5-40ec-ab45-602c60c27014"
    },
    {
      "cell_type": "code",
      "execution_count": null,
      "metadata": {
        "id": "Rksvw8eQb9pQ"
      },
      "outputs": [],
      "source": [
        "# 14\n",
        "\n",
        "from torchvision.utils import draw_bounding_boxes\n",
        "import matplotlib.pyplot as plt"
      ],
      "id": "Rksvw8eQb9pQ"
    },
    {
      "cell_type": "code",
      "source": [
        "# 15\n",
        "\n",
        "ls\n"
      ],
      "metadata": {
        "colab": {
          "base_uri": "https://localhost:8080/"
        },
        "id": "YwPtrvodZRsg",
        "outputId": "f53049b3-f930-4f3c-e07c-1c7e58a9cea9"
      },
      "id": "YwPtrvodZRsg",
      "execution_count": null,
      "outputs": [
        {
          "output_type": "stream",
          "name": "stdout",
          "text": [
            "coco_eval.py   \u001b[0m\u001b[01;34mdrive\u001b[0m/     \u001b[01;34m__pycache__\u001b[0m/  transforms.py  \u001b[01;34mvision\u001b[0m/\n",
            "coco_utils.py  engine.py  \u001b[01;34msample_data\u001b[0m/  utils.py\n"
          ]
        }
      ]
    },
    {
      "cell_type": "code",
      "execution_count": null,
      "metadata": {
        "id": "IotcJnY3ZgW_"
      },
      "outputs": [],
      "source": [
        "# 16\n",
        "\n",
        "torch.save(model.state_dict(), '/content/drive/MyDrive/VisionProject/Model/segmentation_model.pt')\n",
        "model.eval();"
      ],
      "id": "IotcJnY3ZgW_"
    },
    {
      "cell_type": "code",
      "execution_count": null,
      "metadata": {
        "id": "uWd2tU3gYauT"
      },
      "outputs": [],
      "source": [
        "# 17\n",
        "\n",
        "import glob"
      ],
      "id": "uWd2tU3gYauT"
    },
    {
      "cell_type": "code",
      "execution_count": null,
      "metadata": {
        "id": "V2-EchQ-YJRl"
      },
      "outputs": [],
      "source": [
        "# 18\n",
        "\n",
        "dataset.dataset.id2file.values()"
      ],
      "id": "V2-EchQ-YJRl"
    },
    {
      "cell_type": "code",
      "execution_count": null,
      "metadata": {
        "colab": {
          "base_uri": "https://localhost:8080/",
          "height": 35
        },
        "id": "MncbPAW3YSV1",
        "outputId": "06e7d845-9bf2-4946-f5e5-29dd83d71154"
      },
      "outputs": [
        {
          "output_type": "execute_result",
          "data": {
            "text/plain": [
              "'drive/MyDrive/VisionProject/Dataset/Data/0088.jpg'"
            ],
            "application/vnd.google.colaboratory.intrinsic+json": {
              "type": "string"
            }
          },
          "metadata": {},
          "execution_count": 42
        }
      ],
      "source": [
        "# 19\n",
        "\n",
        "glob.glob('drive/MyDrive/VisionProject/Dataset/Data/*')[0]"
      ],
      "id": "MncbPAW3YSV1"
    },
    {
      "cell_type": "code",
      "execution_count": null,
      "metadata": {
        "id": "3IN8IMelYKUd"
      },
      "outputs": [],
      "source": [
        "# 20\n",
        "\n",
        "other_images = set(glob.glob('drive/MyDrive/VisionProject/Dataset/Data/*'))\n",
        "other_images.difference_update(list(map(lambda x: 'drive/MyDrive/VisionProject/Dataset/Data/' + x, dataset.dataset.id2file.values())))\n",
        "other_images.difference_update(list(map(lambda x: 'drive/MyDrive/VisionProject/Dataset/Data/' + x, dataset_test.dataset.id2file.values())))\n",
        "other_images = list(other_images)"
      ],
      "id": "3IN8IMelYKUd"
    },
    {
      "cell_type": "code",
      "execution_count": null,
      "metadata": {
        "id": "lo0QAXMxabGw"
      },
      "outputs": [],
      "source": [
        "# 21\n",
        "\n",
        "import matplotlib.pyplot as plt"
      ],
      "id": "lo0QAXMxabGw"
    },
    {
      "cell_type": "code",
      "execution_count": null,
      "metadata": {
        "colab": {
          "base_uri": "https://localhost:8080/"
        },
        "id": "4kib6jSiPC8c",
        "outputId": "d670b019-e1b3-4aec-c31b-dcff0a5aade1"
      },
      "outputs": [
        {
          "output_type": "stream",
          "name": "stdout",
          "text": [
            "Looking in indexes: https://pypi.org/simple, https://us-python.pkg.dev/colab-wheels/public/simple/\n",
            "Collecting imantics\n",
            "  Downloading imantics-0.1.12.tar.gz (13 kB)\n",
            "Requirement already satisfied: numpy in /usr/local/lib/python3.7/dist-packages (from imantics) (1.21.6)\n",
            "Requirement already satisfied: opencv-python>=3 in /usr/local/lib/python3.7/dist-packages (from imantics) (4.6.0.66)\n",
            "Requirement already satisfied: lxml in /usr/local/lib/python3.7/dist-packages (from imantics) (4.2.6)\n",
            "Collecting xmljson\n",
            "  Downloading xmljson-0.2.1-py2.py3-none-any.whl (10 kB)\n",
            "Building wheels for collected packages: imantics\n",
            "  Building wheel for imantics (setup.py) ... \u001b[?25l\u001b[?25hdone\n",
            "  Created wheel for imantics: filename=imantics-0.1.12-py3-none-any.whl size=16033 sha256=ea62dc54455890136a7ff700b6b6ebeaefef852a394f1f538e76e55870d667e9\n",
            "  Stored in directory: /root/.cache/pip/wheels/da/7c/3e/296fe3ed4eb3bd713e91dee0d0549f12f316d49939a64bdc96\n",
            "Successfully built imantics\n",
            "Installing collected packages: xmljson, imantics\n",
            "Successfully installed imantics-0.1.12 xmljson-0.2.1\n"
          ]
        }
      ],
      "source": [
        "# 22\n",
        "\n",
        "!pip install imantics"
      ],
      "id": "4kib6jSiPC8c"
    },
    {
      "cell_type": "code",
      "execution_count": null,
      "metadata": {
        "id": "WLQvArmXqyIZ"
      },
      "outputs": [],
      "source": [
        "# 23\n",
        "\n",
        "from scipy.spatial import distance"
      ],
      "id": "WLQvArmXqyIZ"
    },
    {
      "cell_type": "markdown",
      "metadata": {
        "id": "aJxjwrTRBJb_"
      },
      "source": [
        ""
      ],
      "id": "aJxjwrTRBJb_"
    },
    {
      "cell_type": "code",
      "execution_count": null,
      "metadata": {
        "id": "dyLlA55_YqTI"
      },
      "outputs": [],
      "source": [
        "# 24\n",
        "\n",
        "from imantics import Polygons, Mask\n",
        "\n",
        "\n",
        "def show_mask(img, maskList, img_name='img.png'):\n",
        "    alpha = 0.6\n",
        "    beta = 1 - alpha\n",
        "    alphaRaw=alpha*(img)\n",
        "    betaBuffer=0\n",
        "    for mask in maskList:\n",
        "      betaBuffer += beta*(cv2.cvtColor(mask, cv2.COLOR_GRAY2BGR))\n",
        "      print(mask.shape)\n",
        "    dst = np.uint8(alphaRaw+betaBuffer)\n",
        "    plt.figure(figsize=(16, 9))\n",
        "    plt.title(img_name)\n",
        "    plt.imshow(dst)\n",
        "    plt.show()\n",
        "\n",
        "\n",
        "def get_mask(base_img, return_bbox=False, except_points=[]):\n",
        "    img = get_transform(train=False)(base_img, {})[0]\n",
        "    prediction = model(torch.FloatTensor([img.numpy()]).to(device))\n",
        "\n",
        "    i = 0\n",
        "    bboxList=[]\n",
        "    maskList=[]\n",
        "    while i < len(prediction[0]['boxes']):\n",
        "        \n",
        "        is_ok = True\n",
        "\n",
        "        for point in except_points:\n",
        "            if distance.euclidean((bboxList[i][0].item(), bboxList[i][1].item()), point) < 40:\n",
        "                is_ok = False\n",
        "                break\n",
        "\n",
        "        if is_ok and prediction[0]['scores'][i]>0.7:\n",
        "          bboxList.append(prediction[0]['boxes'][i].detach().cpu().numpy())\n",
        "          maskList.append(prediction[0]['masks'][i, 0].mul(255).byte().cpu().numpy())\n",
        "\n",
        "        i += 1\n",
        "    if len(bboxList)==0:\n",
        "      del bboxList\n",
        "      return None, None\n",
        "    \n",
        "    del prediction\n",
        "\n",
        "    if return_bbox:\n",
        "      \n",
        "      return maskList, bboxList\n",
        "    \n",
        "    return maskList, None\n",
        "\n",
        "\n",
        "def get_mask_segmentation(maskList):\n",
        "    segmentationList=[]\n",
        "    for mask in maskList:\n",
        "      polygons = Mask(mask).polygons()\n",
        "      segmentationList.append(polygons.segmentation)\n",
        "\n",
        "    return segmentationList\n",
        "\n",
        "\n",
        "def show_segmentation(image_path, except_points=[]):\n",
        "    base_img = cv2.imread(image_path)\n",
        "    maskList, _ = get_mask(base_img, except_points=except_points)\n",
        "    show_mask(base_img, maskList)\n",
        "\n",
        "\n",
        "def get_image_coco_properties(image_path, image_id, except_points=[]):\n",
        "    base_img = cv2.imread(image_path)\n",
        "    maskList, bboxList = get_mask(base_img, return_bbox=True, except_points=except_points)\n",
        "\n",
        "    if maskList is None:\n",
        "        return None, None\n",
        "\n",
        "    segmentationList = get_mask_segmentation(maskList)\n",
        "\n",
        "    annotationList = []\n",
        "    for index,bbox in enumerate(bboxList):\n",
        "      annotation = {\n",
        "        'bbox': [round(bbox[0]), round(bbox[1]), round(bbox[2] - bbox[0]), round(bbox[3] - bbox[1])],\n",
        "        'id': -1,\n",
        "        'image_id': image_id,\n",
        "        'category_id': 91,\n",
        "        'iscrowd': 0,\n",
        "        'segmentation': segmentationList[index]\n",
        "      }\n",
        "      annotationList.append(annotation)\n",
        "\n",
        "    image = {\n",
        "        \"date_captured\": \"\",\n",
        "        \"file_name\": os.path.basename(image_path),\n",
        "        \"height\": base_img.shape[0],\n",
        "        \"id\": image_id,\n",
        "        \"license\": 0,\n",
        "        \"url\": \"\",\n",
        "        \"width\": base_img.shape[1]\n",
        "    }\n",
        "\n",
        "    return image, annotationList"
      ],
      "id": "dyLlA55_YqTI"
    },
    {
      "cell_type": "code",
      "execution_count": null,
      "metadata": {
        "id": "5RCpagoVnYSY"
      },
      "outputs": [],
      "source": [
        "# 25\n",
        "\n",
        "from tqdm.notebook import tqdm"
      ],
      "id": "5RCpagoVnYSY"
    },
    {
      "cell_type": "code",
      "execution_count": null,
      "metadata": {
        "id": "IPjCynm9sC1t"
      },
      "outputs": [],
      "source": [
        "# 26\n",
        "\n",
        "def segment_and_coco_annotate(images_path, except_points=[]):\n",
        "    images = []\n",
        "    coco_annotations = []\n",
        "\n",
        "    for i, image_path in tqdm(enumerate(images_path), total=len(images_path)):\n",
        "        image, annotationList = get_image_coco_properties(\n",
        "            images_path[i],\n",
        "            2000 + i,\n",
        "            except_points\n",
        "        )\n",
        "\n",
        "        if image is None:\n",
        "            continue\n",
        "        for annotation in annotationList:\n",
        "          coco_annotations.append(annotation)\n",
        "        images.append(image)\n",
        "\n",
        "    return images, coco_annotations"
      ],
      "id": "IPjCynm9sC1t"
    },
    {
      "cell_type": "code",
      "execution_count": null,
      "metadata": {
        "id": "CvFymSOMzx7w"
      },
      "outputs": [],
      "source": [
        "# 27\n",
        "\n",
        "def view_examples(images, coco_annotations, images_dir='drive/MyDrive/VisionProject/Dataset/Data/', n=3):\n",
        "    indices = np.random.choice([i for i in range(len(images))], n)\n",
        "    images = np.array(images)\n",
        "    coco_annotations = np.array(coco_annotations)\n",
        "    for image in images[indices]:\n",
        "        print(image)\n",
        "        img = cv2.imread(os.path.join(images_dir, image['file_name']))\n",
        "        maskList = []\n",
        "        for i in range(len(coco_annotation)):\n",
        "          if coco_annotation[i][\"image_id\"]==image[\"id\"]:\n",
        "            print(coco_annotation[i])\n",
        "            mask = mask_from_coco(img, coco_annotation[i])\n",
        "            maskList.append(mask*255)\n",
        "        show_mask(img, maskList, img_name=image['file_name'])"
      ],
      "id": "CvFymSOMzx7w"
    },
    {
      "cell_type": "code",
      "execution_count": null,
      "metadata": {
        "id": "6A7Hv9ACfWAh"
      },
      "outputs": [],
      "source": [
        "# 28\n",
        "import os\n",
        "import cv2\n",
        "from tqdm.notebook import tqdm\n",
        "\n",
        "\n",
        "def get_frames(video_path, save_path):\n",
        "    video_name = os.path.basename(video_path)\n",
        "    vidcap = cv2.VideoCapture(video_path)\n",
        "\n",
        "    success,image = vidcap.read()\n",
        "    count = 0\n",
        "    success = True\n",
        "\n",
        "    total_frames = int(vidcap.get(cv2.CAP_PROP_FRAME_COUNT))\n",
        "    frames = list(range(0, total_frames, 3))  # какие фреймы нужно вырезать\n",
        "\n",
        "    for frame_number in tqdm(frames, leave=False):\n",
        "        vidcap.set(cv2.CAP_PROP_POS_FRAMES, frame_number)\n",
        "        ret, frame = vidcap.read()\n",
        "        cv2.imwrite(os.path.join(save_path, '%s_frame%d.jpg' % (video_name, frame_number)), frame)"
      ],
      "id": "6A7Hv9ACfWAh"
    },
    {
      "cell_type": "code",
      "execution_count": null,
      "metadata": {
        "id": "i7Sa0q7VY2kn"
      },
      "outputs": [],
      "source": [
        "# 29\n",
        "\n",
        "!mkdir video"
      ],
      "id": "i7Sa0q7VY2kn"
    },
    {
      "cell_type": "code",
      "execution_count": null,
      "metadata": {
        "colab": {
          "base_uri": "https://localhost:8080/",
          "height": 17,
          "referenced_widgets": [
            "c06165482ad647e8b2cb15edd6d9c835",
            "b3b1889ccc89426bbb4090e49b9e8d39",
            "b2a77d7b3000415bb1b5e323793bf072",
            "0a1c9ded7d9c4dddafc828d13c981692",
            "4f8cc51b897b4bc794cfd5caca6e4d51",
            "4dcc86f745974e6f95637d08b33f2844",
            "a62e9cd1c2634ebc85f19494917a8826",
            "b818871eb78c441e9efa5895f79a0530",
            "7e2a0f51d7954626ab2e5f7ed69e685d",
            "75a0af6f1dce43359ac632722bd589dc",
            "ae97e8b7da0f4cd4ab28cc6c292425e2"
          ]
        },
        "id": "ix3nBjzxwH17",
        "outputId": "b03b23f3-5014-4d9b-b589-6209f2fcbd09"
      },
      "outputs": [
        {
          "output_type": "display_data",
          "data": {
            "text/plain": [
              "  0%|          | 0/41 [00:00<?, ?it/s]"
            ],
            "application/vnd.jupyter.widget-view+json": {
              "version_major": 2,
              "version_minor": 0,
              "model_id": "c06165482ad647e8b2cb15edd6d9c835"
            }
          },
          "metadata": {}
        }
      ],
      "source": [
        "# 30\n",
        " \n",
        "get_frames('/content/drive/MyDrive/VisionProject/Videos/video_1.mp4', './video/')\n"
      ],
      "id": "ix3nBjzxwH17"
    },
    {
      "cell_type": "code",
      "execution_count": null,
      "metadata": {
        "colab": {
          "base_uri": "https://localhost:8080/"
        },
        "id": "NdkBITRDkuke",
        "outputId": "b8bfc211-663c-4fac-e048-6510a476ea4c"
      },
      "outputs": [
        {
          "output_type": "stream",
          "name": "stdout",
          "text": [
            "coco_eval.py   \u001b[0m\u001b[01;34mdata\u001b[0m/   engine.py    \u001b[01;34m__pycache__\u001b[0m/  transforms.py  \u001b[01;34mvideo_1\u001b[0m/\n",
            "coco_utils.py  \u001b[01;34mdrive\u001b[0m/  labels.json  \u001b[01;34msample_data\u001b[0m/  utils.py       \u001b[01;34mvision\u001b[0m/\n"
          ]
        }
      ],
      "source": [
        "# 31\n",
        "ls"
      ],
      "id": "NdkBITRDkuke"
    },
    {
      "cell_type": "code",
      "execution_count": null,
      "metadata": {
        "colab": {
          "base_uri": "https://localhost:8080/",
          "height": 49,
          "referenced_widgets": [
            "2a276a8b01bd4ddbb5c6a422350a8ed3",
            "7fd1b441439041b4966116ebbbfb592c",
            "bffc9472065645d5b9718ef33f6ca6ad",
            "58e7b01913404bf69b150c64464aa0ee",
            "37ce54e6c84b43dba6e8ad5fb4e5495d",
            "17b099348cd3475b8b5887676ad89f24",
            "3aeb349c516d4f77afb3c9d47ecd3e97",
            "a60922060b964606a34f4a1e091ba05a",
            "06d83b6c591a48e689e0c482d79625d2",
            "4f8cef7dde454ac7b52002cf067897fe",
            "dc35cfe338ff48f980ed8e726e6d051c"
          ]
        },
        "id": "Hc9-VFHygirb",
        "outputId": "e3799d56-4ca8-4769-8010-0d427ef7e925"
      },
      "outputs": [
        {
          "output_type": "display_data",
          "data": {
            "text/plain": [
              "  0%|          | 0/41 [00:00<?, ?it/s]"
            ],
            "application/vnd.jupyter.widget-view+json": {
              "version_major": 2,
              "version_minor": 0,
              "model_id": "2a276a8b01bd4ddbb5c6a422350a8ed3"
            }
          },
          "metadata": {}
        }
      ],
      "source": [
        "# 32\n",
        "images, coco_annotation = segment_and_coco_annotate(\n",
        "    glob.glob('./video/*'),\n",
        ")"
      ],
      "id": "Hc9-VFHygirb"
    },
    {
      "cell_type": "code",
      "execution_count": null,
      "metadata": {
        "colab": {
          "base_uri": "https://localhost:8080/"
        },
        "id": "KlDCjkDyjiG5",
        "outputId": "1206af53-9a40-4e68-e8e4-1ef175fd6568"
      },
      "outputs": [
        {
          "output_type": "stream",
          "name": "stdout",
          "text": [
            "['./video/video_1.mp4_frame30.jpg', './video/video_1.mp4_frame15.jpg', './video/video_1.mp4_frame36.jpg', './video/video_1.mp4_frame105.jpg', './video/video_1.mp4_frame60.jpg', './video/video_1.mp4_frame21.jpg', './video/video_1.mp4_frame75.jpg', './video/video_1.mp4_frame24.jpg', './video/video_1.mp4_frame3.jpg', './video/video_1.mp4_frame48.jpg', './video/video_1.mp4_frame102.jpg', './video/video_1.mp4_frame66.jpg', './video/video_1.mp4_frame0.jpg', './video/video_1.mp4_frame63.jpg', './video/video_1.mp4_frame12.jpg', './video/video_1.mp4_frame42.jpg', './video/video_1.mp4_frame27.jpg', './video/video_1.mp4_frame96.jpg', './video/video_1.mp4_frame111.jpg', './video/video_1.mp4_frame39.jpg', './video/video_1.mp4_frame120.jpg', './video/video_1.mp4_frame117.jpg', './video/video_1.mp4_frame90.jpg', './video/video_1.mp4_frame114.jpg', './video/video_1.mp4_frame6.jpg', './video/video_1.mp4_frame93.jpg', './video/video_1.mp4_frame18.jpg', './video/video_1.mp4_frame81.jpg', './video/video_1.mp4_frame78.jpg', './video/video_1.mp4_frame69.jpg', './video/video_1.mp4_frame72.jpg', './video/video_1.mp4_frame45.jpg', './video/video_1.mp4_frame33.jpg', './video/video_1.mp4_frame84.jpg', './video/video_1.mp4_frame9.jpg', './video/video_1.mp4_frame57.jpg', './video/video_1.mp4_frame99.jpg', './video/video_1.mp4_frame54.jpg', './video/video_1.mp4_frame87.jpg', './video/video_1.mp4_frame51.jpg', './video/video_1.mp4_frame108.jpg']\n"
          ]
        }
      ],
      "source": [
        "# 33\n",
        "print(glob.glob('./video/*'))"
      ],
      "id": "KlDCjkDyjiG5"
    },
    {
      "cell_type": "code",
      "execution_count": null,
      "metadata": {
        "id": "-iX_Eq0RzqCA"
      },
      "outputs": [],
      "source": [
        "# 34\n",
        "\n",
        "print(len(images))"
      ],
      "id": "-iX_Eq0RzqCA"
    },
    {
      "cell_type": "code",
      "execution_count": null,
      "metadata": {
        "id": "kLqotU-3-s4U"
      },
      "outputs": [],
      "source": [
        "# 35\n",
        "\n",
        "view_examples(images, coco_annotation, images_dir='./video', n=200)"
      ],
      "id": "kLqotU-3-s4U"
    },
    {
      "cell_type": "code",
      "execution_count": null,
      "metadata": {
        "id": "qCgRcFT76aMX"
      },
      "outputs": [],
      "source": [
        "# 36\n",
        "\n",
        "import plotly.express as px\n",
        "\n",
        "px.imshow(cv2.imread('./video/video_1.mp4_frame108.jpg'))"
      ],
      "id": "qCgRcFT76aMX"
    },
    {
      "cell_type": "code",
      "execution_count": null,
      "metadata": {
        "id": "CZTRuWpOPO2Y"
      },
      "outputs": [],
      "source": [
        "# 37\n",
        "\n",
        "with open('drive/MyDrive/VisionProject/Dataset/Labels.json', 'r') as fw:\n",
        "    labels = json.load(fw)\n",
        "    labels['images'].extend(images)\n",
        "    labels['annotations'].extend(coco_annotation)\n",
        "    with open('drive/MyDrive/VisionProject/NewDataset/NewLabels.json', 'w') as fw:\n",
        "        json.dump(labels, fw)"
      ],
      "id": "CZTRuWpOPO2Y"
    },
    {
      "cell_type": "code",
      "source": [
        "# 38\n",
        "\n",
        "ls"
      ],
      "metadata": {
        "colab": {
          "base_uri": "https://localhost:8080/"
        },
        "id": "3uomJ9tccxBo",
        "outputId": "d359a759-0077-4d0e-ec28-d505ad0d0f9a"
      },
      "id": "3uomJ9tccxBo",
      "execution_count": null,
      "outputs": [
        {
          "output_type": "stream",
          "name": "stdout",
          "text": [
            "coco_eval.py   \u001b[0m\u001b[01;34mdrive\u001b[0m/     \u001b[01;34m__pycache__\u001b[0m/  transforms.py  \u001b[01;34mvideo\u001b[0m/\n",
            "coco_utils.py  engine.py  \u001b[01;34msample_data\u001b[0m/  utils.py       \u001b[01;34mvision\u001b[0m/\n"
          ]
        }
      ]
    },
    {
      "cell_type": "code",
      "execution_count": null,
      "metadata": {
        "id": "W3kIAy6oxhxo"
      },
      "outputs": [],
      "source": [
        "# 39\n",
        "!cp /content/video/* /content/drive/MyDrive/VisionProject/NewDataset/Data/"
      ],
      "id": "W3kIAy6oxhxo"
    },
    {
      "cell_type": "code",
      "execution_count": null,
      "metadata": {
        "id": "gaYgfcl2ZKNN"
      },
      "outputs": [],
      "source": [
        "# 40\n",
        "\n",
        "!zip -r segmented_dataser.zip ./video/*\n",
        "!mv segmented_dataser.zip ./drive/MyDrive/VisionProject/NewDataset/"
      ],
      "id": "gaYgfcl2ZKNN"
    }
  ],
  "metadata": {
    "accelerator": "GPU",
    "colab": {
      "collapsed_sections": [],
      "name": "Segmebtation.ipynb",
      "provenance": [],
      "include_colab_link": true
    },
    "kernelspec": {
      "display_name": "Python 3 (ipykernel)",
      "language": "python",
      "name": "python3"
    },
    "language_info": {
      "codemirror_mode": {
        "name": "ipython",
        "version": 3
      },
      "file_extension": ".py",
      "mimetype": "text/x-python",
      "name": "python",
      "nbconvert_exporter": "python",
      "pygments_lexer": "ipython3",
      "version": "3.9.10"
    },
    "widgets": {
      "application/vnd.jupyter.widget-state+json": {
        "b686fb3ade3f46978e7d4e6f64413d97": {
          "model_module": "@jupyter-widgets/controls",
          "model_name": "HBoxModel",
          "model_module_version": "1.5.0",
          "state": {
            "_dom_classes": [],
            "_model_module": "@jupyter-widgets/controls",
            "_model_module_version": "1.5.0",
            "_model_name": "HBoxModel",
            "_view_count": null,
            "_view_module": "@jupyter-widgets/controls",
            "_view_module_version": "1.5.0",
            "_view_name": "HBoxView",
            "box_style": "",
            "children": [
              "IPY_MODEL_c79942e788b24e788cf357c173924be4",
              "IPY_MODEL_d6e16b2e567b43a09bc0c0d2d1d35d38",
              "IPY_MODEL_d432bd38d992460e8cf8081d753710c2"
            ],
            "layout": "IPY_MODEL_9dff6c94b4ed4dc0ba5e894eec2e61c5"
          }
        },
        "c79942e788b24e788cf357c173924be4": {
          "model_module": "@jupyter-widgets/controls",
          "model_name": "HTMLModel",
          "model_module_version": "1.5.0",
          "state": {
            "_dom_classes": [],
            "_model_module": "@jupyter-widgets/controls",
            "_model_module_version": "1.5.0",
            "_model_name": "HTMLModel",
            "_view_count": null,
            "_view_module": "@jupyter-widgets/controls",
            "_view_module_version": "1.5.0",
            "_view_name": "HTMLView",
            "description": "",
            "description_tooltip": null,
            "layout": "IPY_MODEL_d8a62849986b4b4bbf857450493f0f47",
            "placeholder": "​",
            "style": "IPY_MODEL_03c73cff8fb94f4ba50f3ee647cead4e",
            "value": "100%"
          }
        },
        "d6e16b2e567b43a09bc0c0d2d1d35d38": {
          "model_module": "@jupyter-widgets/controls",
          "model_name": "FloatProgressModel",
          "model_module_version": "1.5.0",
          "state": {
            "_dom_classes": [],
            "_model_module": "@jupyter-widgets/controls",
            "_model_module_version": "1.5.0",
            "_model_name": "FloatProgressModel",
            "_view_count": null,
            "_view_module": "@jupyter-widgets/controls",
            "_view_module_version": "1.5.0",
            "_view_name": "ProgressView",
            "bar_style": "success",
            "description": "",
            "description_tooltip": null,
            "layout": "IPY_MODEL_f6f502440cd5463ea2733f092655e4a3",
            "max": 178090079,
            "min": 0,
            "orientation": "horizontal",
            "style": "IPY_MODEL_206b194e89e84425926fa16128a54bb1",
            "value": 178090079
          }
        },
        "d432bd38d992460e8cf8081d753710c2": {
          "model_module": "@jupyter-widgets/controls",
          "model_name": "HTMLModel",
          "model_module_version": "1.5.0",
          "state": {
            "_dom_classes": [],
            "_model_module": "@jupyter-widgets/controls",
            "_model_module_version": "1.5.0",
            "_model_name": "HTMLModel",
            "_view_count": null,
            "_view_module": "@jupyter-widgets/controls",
            "_view_module_version": "1.5.0",
            "_view_name": "HTMLView",
            "description": "",
            "description_tooltip": null,
            "layout": "IPY_MODEL_2158238a9fbb42978b583f9a8e266171",
            "placeholder": "​",
            "style": "IPY_MODEL_2a67e722bb9144f582dc944cc77f4aae",
            "value": " 170M/170M [00:01&lt;00:00, 212MB/s]"
          }
        },
        "9dff6c94b4ed4dc0ba5e894eec2e61c5": {
          "model_module": "@jupyter-widgets/base",
          "model_name": "LayoutModel",
          "model_module_version": "1.2.0",
          "state": {
            "_model_module": "@jupyter-widgets/base",
            "_model_module_version": "1.2.0",
            "_model_name": "LayoutModel",
            "_view_count": null,
            "_view_module": "@jupyter-widgets/base",
            "_view_module_version": "1.2.0",
            "_view_name": "LayoutView",
            "align_content": null,
            "align_items": null,
            "align_self": null,
            "border": null,
            "bottom": null,
            "display": null,
            "flex": null,
            "flex_flow": null,
            "grid_area": null,
            "grid_auto_columns": null,
            "grid_auto_flow": null,
            "grid_auto_rows": null,
            "grid_column": null,
            "grid_gap": null,
            "grid_row": null,
            "grid_template_areas": null,
            "grid_template_columns": null,
            "grid_template_rows": null,
            "height": null,
            "justify_content": null,
            "justify_items": null,
            "left": null,
            "margin": null,
            "max_height": null,
            "max_width": null,
            "min_height": null,
            "min_width": null,
            "object_fit": null,
            "object_position": null,
            "order": null,
            "overflow": null,
            "overflow_x": null,
            "overflow_y": null,
            "padding": null,
            "right": null,
            "top": null,
            "visibility": null,
            "width": null
          }
        },
        "d8a62849986b4b4bbf857450493f0f47": {
          "model_module": "@jupyter-widgets/base",
          "model_name": "LayoutModel",
          "model_module_version": "1.2.0",
          "state": {
            "_model_module": "@jupyter-widgets/base",
            "_model_module_version": "1.2.0",
            "_model_name": "LayoutModel",
            "_view_count": null,
            "_view_module": "@jupyter-widgets/base",
            "_view_module_version": "1.2.0",
            "_view_name": "LayoutView",
            "align_content": null,
            "align_items": null,
            "align_self": null,
            "border": null,
            "bottom": null,
            "display": null,
            "flex": null,
            "flex_flow": null,
            "grid_area": null,
            "grid_auto_columns": null,
            "grid_auto_flow": null,
            "grid_auto_rows": null,
            "grid_column": null,
            "grid_gap": null,
            "grid_row": null,
            "grid_template_areas": null,
            "grid_template_columns": null,
            "grid_template_rows": null,
            "height": null,
            "justify_content": null,
            "justify_items": null,
            "left": null,
            "margin": null,
            "max_height": null,
            "max_width": null,
            "min_height": null,
            "min_width": null,
            "object_fit": null,
            "object_position": null,
            "order": null,
            "overflow": null,
            "overflow_x": null,
            "overflow_y": null,
            "padding": null,
            "right": null,
            "top": null,
            "visibility": null,
            "width": null
          }
        },
        "03c73cff8fb94f4ba50f3ee647cead4e": {
          "model_module": "@jupyter-widgets/controls",
          "model_name": "DescriptionStyleModel",
          "model_module_version": "1.5.0",
          "state": {
            "_model_module": "@jupyter-widgets/controls",
            "_model_module_version": "1.5.0",
            "_model_name": "DescriptionStyleModel",
            "_view_count": null,
            "_view_module": "@jupyter-widgets/base",
            "_view_module_version": "1.2.0",
            "_view_name": "StyleView",
            "description_width": ""
          }
        },
        "f6f502440cd5463ea2733f092655e4a3": {
          "model_module": "@jupyter-widgets/base",
          "model_name": "LayoutModel",
          "model_module_version": "1.2.0",
          "state": {
            "_model_module": "@jupyter-widgets/base",
            "_model_module_version": "1.2.0",
            "_model_name": "LayoutModel",
            "_view_count": null,
            "_view_module": "@jupyter-widgets/base",
            "_view_module_version": "1.2.0",
            "_view_name": "LayoutView",
            "align_content": null,
            "align_items": null,
            "align_self": null,
            "border": null,
            "bottom": null,
            "display": null,
            "flex": null,
            "flex_flow": null,
            "grid_area": null,
            "grid_auto_columns": null,
            "grid_auto_flow": null,
            "grid_auto_rows": null,
            "grid_column": null,
            "grid_gap": null,
            "grid_row": null,
            "grid_template_areas": null,
            "grid_template_columns": null,
            "grid_template_rows": null,
            "height": null,
            "justify_content": null,
            "justify_items": null,
            "left": null,
            "margin": null,
            "max_height": null,
            "max_width": null,
            "min_height": null,
            "min_width": null,
            "object_fit": null,
            "object_position": null,
            "order": null,
            "overflow": null,
            "overflow_x": null,
            "overflow_y": null,
            "padding": null,
            "right": null,
            "top": null,
            "visibility": null,
            "width": null
          }
        },
        "206b194e89e84425926fa16128a54bb1": {
          "model_module": "@jupyter-widgets/controls",
          "model_name": "ProgressStyleModel",
          "model_module_version": "1.5.0",
          "state": {
            "_model_module": "@jupyter-widgets/controls",
            "_model_module_version": "1.5.0",
            "_model_name": "ProgressStyleModel",
            "_view_count": null,
            "_view_module": "@jupyter-widgets/base",
            "_view_module_version": "1.2.0",
            "_view_name": "StyleView",
            "bar_color": null,
            "description_width": ""
          }
        },
        "2158238a9fbb42978b583f9a8e266171": {
          "model_module": "@jupyter-widgets/base",
          "model_name": "LayoutModel",
          "model_module_version": "1.2.0",
          "state": {
            "_model_module": "@jupyter-widgets/base",
            "_model_module_version": "1.2.0",
            "_model_name": "LayoutModel",
            "_view_count": null,
            "_view_module": "@jupyter-widgets/base",
            "_view_module_version": "1.2.0",
            "_view_name": "LayoutView",
            "align_content": null,
            "align_items": null,
            "align_self": null,
            "border": null,
            "bottom": null,
            "display": null,
            "flex": null,
            "flex_flow": null,
            "grid_area": null,
            "grid_auto_columns": null,
            "grid_auto_flow": null,
            "grid_auto_rows": null,
            "grid_column": null,
            "grid_gap": null,
            "grid_row": null,
            "grid_template_areas": null,
            "grid_template_columns": null,
            "grid_template_rows": null,
            "height": null,
            "justify_content": null,
            "justify_items": null,
            "left": null,
            "margin": null,
            "max_height": null,
            "max_width": null,
            "min_height": null,
            "min_width": null,
            "object_fit": null,
            "object_position": null,
            "order": null,
            "overflow": null,
            "overflow_x": null,
            "overflow_y": null,
            "padding": null,
            "right": null,
            "top": null,
            "visibility": null,
            "width": null
          }
        },
        "2a67e722bb9144f582dc944cc77f4aae": {
          "model_module": "@jupyter-widgets/controls",
          "model_name": "DescriptionStyleModel",
          "model_module_version": "1.5.0",
          "state": {
            "_model_module": "@jupyter-widgets/controls",
            "_model_module_version": "1.5.0",
            "_model_name": "DescriptionStyleModel",
            "_view_count": null,
            "_view_module": "@jupyter-widgets/base",
            "_view_module_version": "1.2.0",
            "_view_name": "StyleView",
            "description_width": ""
          }
        },
        "c06165482ad647e8b2cb15edd6d9c835": {
          "model_module": "@jupyter-widgets/controls",
          "model_name": "HBoxModel",
          "model_module_version": "1.5.0",
          "state": {
            "_dom_classes": [],
            "_model_module": "@jupyter-widgets/controls",
            "_model_module_version": "1.5.0",
            "_model_name": "HBoxModel",
            "_view_count": null,
            "_view_module": "@jupyter-widgets/controls",
            "_view_module_version": "1.5.0",
            "_view_name": "HBoxView",
            "box_style": "",
            "children": [
              "IPY_MODEL_b3b1889ccc89426bbb4090e49b9e8d39",
              "IPY_MODEL_b2a77d7b3000415bb1b5e323793bf072",
              "IPY_MODEL_0a1c9ded7d9c4dddafc828d13c981692"
            ],
            "layout": "IPY_MODEL_4f8cc51b897b4bc794cfd5caca6e4d51"
          }
        },
        "b3b1889ccc89426bbb4090e49b9e8d39": {
          "model_module": "@jupyter-widgets/controls",
          "model_name": "HTMLModel",
          "model_module_version": "1.5.0",
          "state": {
            "_dom_classes": [],
            "_model_module": "@jupyter-widgets/controls",
            "_model_module_version": "1.5.0",
            "_model_name": "HTMLModel",
            "_view_count": null,
            "_view_module": "@jupyter-widgets/controls",
            "_view_module_version": "1.5.0",
            "_view_name": "HTMLView",
            "description": "",
            "description_tooltip": null,
            "layout": "IPY_MODEL_4dcc86f745974e6f95637d08b33f2844",
            "placeholder": "​",
            "style": "IPY_MODEL_a62e9cd1c2634ebc85f19494917a8826",
            "value": "100%"
          }
        },
        "b2a77d7b3000415bb1b5e323793bf072": {
          "model_module": "@jupyter-widgets/controls",
          "model_name": "FloatProgressModel",
          "model_module_version": "1.5.0",
          "state": {
            "_dom_classes": [],
            "_model_module": "@jupyter-widgets/controls",
            "_model_module_version": "1.5.0",
            "_model_name": "FloatProgressModel",
            "_view_count": null,
            "_view_module": "@jupyter-widgets/controls",
            "_view_module_version": "1.5.0",
            "_view_name": "ProgressView",
            "bar_style": "",
            "description": "",
            "description_tooltip": null,
            "layout": "IPY_MODEL_b818871eb78c441e9efa5895f79a0530",
            "max": 41,
            "min": 0,
            "orientation": "horizontal",
            "style": "IPY_MODEL_7e2a0f51d7954626ab2e5f7ed69e685d",
            "value": 41
          }
        },
        "0a1c9ded7d9c4dddafc828d13c981692": {
          "model_module": "@jupyter-widgets/controls",
          "model_name": "HTMLModel",
          "model_module_version": "1.5.0",
          "state": {
            "_dom_classes": [],
            "_model_module": "@jupyter-widgets/controls",
            "_model_module_version": "1.5.0",
            "_model_name": "HTMLModel",
            "_view_count": null,
            "_view_module": "@jupyter-widgets/controls",
            "_view_module_version": "1.5.0",
            "_view_name": "HTMLView",
            "description": "",
            "description_tooltip": null,
            "layout": "IPY_MODEL_75a0af6f1dce43359ac632722bd589dc",
            "placeholder": "​",
            "style": "IPY_MODEL_ae97e8b7da0f4cd4ab28cc6c292425e2",
            "value": " 41/41 [00:05&lt;00:00,  7.22it/s]"
          }
        },
        "4f8cc51b897b4bc794cfd5caca6e4d51": {
          "model_module": "@jupyter-widgets/base",
          "model_name": "LayoutModel",
          "model_module_version": "1.2.0",
          "state": {
            "_model_module": "@jupyter-widgets/base",
            "_model_module_version": "1.2.0",
            "_model_name": "LayoutModel",
            "_view_count": null,
            "_view_module": "@jupyter-widgets/base",
            "_view_module_version": "1.2.0",
            "_view_name": "LayoutView",
            "align_content": null,
            "align_items": null,
            "align_self": null,
            "border": null,
            "bottom": null,
            "display": null,
            "flex": null,
            "flex_flow": null,
            "grid_area": null,
            "grid_auto_columns": null,
            "grid_auto_flow": null,
            "grid_auto_rows": null,
            "grid_column": null,
            "grid_gap": null,
            "grid_row": null,
            "grid_template_areas": null,
            "grid_template_columns": null,
            "grid_template_rows": null,
            "height": null,
            "justify_content": null,
            "justify_items": null,
            "left": null,
            "margin": null,
            "max_height": null,
            "max_width": null,
            "min_height": null,
            "min_width": null,
            "object_fit": null,
            "object_position": null,
            "order": null,
            "overflow": null,
            "overflow_x": null,
            "overflow_y": null,
            "padding": null,
            "right": null,
            "top": null,
            "visibility": null,
            "width": null
          }
        },
        "4dcc86f745974e6f95637d08b33f2844": {
          "model_module": "@jupyter-widgets/base",
          "model_name": "LayoutModel",
          "model_module_version": "1.2.0",
          "state": {
            "_model_module": "@jupyter-widgets/base",
            "_model_module_version": "1.2.0",
            "_model_name": "LayoutModel",
            "_view_count": null,
            "_view_module": "@jupyter-widgets/base",
            "_view_module_version": "1.2.0",
            "_view_name": "LayoutView",
            "align_content": null,
            "align_items": null,
            "align_self": null,
            "border": null,
            "bottom": null,
            "display": null,
            "flex": null,
            "flex_flow": null,
            "grid_area": null,
            "grid_auto_columns": null,
            "grid_auto_flow": null,
            "grid_auto_rows": null,
            "grid_column": null,
            "grid_gap": null,
            "grid_row": null,
            "grid_template_areas": null,
            "grid_template_columns": null,
            "grid_template_rows": null,
            "height": null,
            "justify_content": null,
            "justify_items": null,
            "left": null,
            "margin": null,
            "max_height": null,
            "max_width": null,
            "min_height": null,
            "min_width": null,
            "object_fit": null,
            "object_position": null,
            "order": null,
            "overflow": null,
            "overflow_x": null,
            "overflow_y": null,
            "padding": null,
            "right": null,
            "top": null,
            "visibility": null,
            "width": null
          }
        },
        "a62e9cd1c2634ebc85f19494917a8826": {
          "model_module": "@jupyter-widgets/controls",
          "model_name": "DescriptionStyleModel",
          "model_module_version": "1.5.0",
          "state": {
            "_model_module": "@jupyter-widgets/controls",
            "_model_module_version": "1.5.0",
            "_model_name": "DescriptionStyleModel",
            "_view_count": null,
            "_view_module": "@jupyter-widgets/base",
            "_view_module_version": "1.2.0",
            "_view_name": "StyleView",
            "description_width": ""
          }
        },
        "b818871eb78c441e9efa5895f79a0530": {
          "model_module": "@jupyter-widgets/base",
          "model_name": "LayoutModel",
          "model_module_version": "1.2.0",
          "state": {
            "_model_module": "@jupyter-widgets/base",
            "_model_module_version": "1.2.0",
            "_model_name": "LayoutModel",
            "_view_count": null,
            "_view_module": "@jupyter-widgets/base",
            "_view_module_version": "1.2.0",
            "_view_name": "LayoutView",
            "align_content": null,
            "align_items": null,
            "align_self": null,
            "border": null,
            "bottom": null,
            "display": null,
            "flex": null,
            "flex_flow": null,
            "grid_area": null,
            "grid_auto_columns": null,
            "grid_auto_flow": null,
            "grid_auto_rows": null,
            "grid_column": null,
            "grid_gap": null,
            "grid_row": null,
            "grid_template_areas": null,
            "grid_template_columns": null,
            "grid_template_rows": null,
            "height": null,
            "justify_content": null,
            "justify_items": null,
            "left": null,
            "margin": null,
            "max_height": null,
            "max_width": null,
            "min_height": null,
            "min_width": null,
            "object_fit": null,
            "object_position": null,
            "order": null,
            "overflow": null,
            "overflow_x": null,
            "overflow_y": null,
            "padding": null,
            "right": null,
            "top": null,
            "visibility": null,
            "width": null
          }
        },
        "7e2a0f51d7954626ab2e5f7ed69e685d": {
          "model_module": "@jupyter-widgets/controls",
          "model_name": "ProgressStyleModel",
          "model_module_version": "1.5.0",
          "state": {
            "_model_module": "@jupyter-widgets/controls",
            "_model_module_version": "1.5.0",
            "_model_name": "ProgressStyleModel",
            "_view_count": null,
            "_view_module": "@jupyter-widgets/base",
            "_view_module_version": "1.2.0",
            "_view_name": "StyleView",
            "bar_color": null,
            "description_width": ""
          }
        },
        "75a0af6f1dce43359ac632722bd589dc": {
          "model_module": "@jupyter-widgets/base",
          "model_name": "LayoutModel",
          "model_module_version": "1.2.0",
          "state": {
            "_model_module": "@jupyter-widgets/base",
            "_model_module_version": "1.2.0",
            "_model_name": "LayoutModel",
            "_view_count": null,
            "_view_module": "@jupyter-widgets/base",
            "_view_module_version": "1.2.0",
            "_view_name": "LayoutView",
            "align_content": null,
            "align_items": null,
            "align_self": null,
            "border": null,
            "bottom": null,
            "display": null,
            "flex": null,
            "flex_flow": null,
            "grid_area": null,
            "grid_auto_columns": null,
            "grid_auto_flow": null,
            "grid_auto_rows": null,
            "grid_column": null,
            "grid_gap": null,
            "grid_row": null,
            "grid_template_areas": null,
            "grid_template_columns": null,
            "grid_template_rows": null,
            "height": null,
            "justify_content": null,
            "justify_items": null,
            "left": null,
            "margin": null,
            "max_height": null,
            "max_width": null,
            "min_height": null,
            "min_width": null,
            "object_fit": null,
            "object_position": null,
            "order": null,
            "overflow": null,
            "overflow_x": null,
            "overflow_y": null,
            "padding": null,
            "right": null,
            "top": null,
            "visibility": null,
            "width": null
          }
        },
        "ae97e8b7da0f4cd4ab28cc6c292425e2": {
          "model_module": "@jupyter-widgets/controls",
          "model_name": "DescriptionStyleModel",
          "model_module_version": "1.5.0",
          "state": {
            "_model_module": "@jupyter-widgets/controls",
            "_model_module_version": "1.5.0",
            "_model_name": "DescriptionStyleModel",
            "_view_count": null,
            "_view_module": "@jupyter-widgets/base",
            "_view_module_version": "1.2.0",
            "_view_name": "StyleView",
            "description_width": ""
          }
        },
        "2a276a8b01bd4ddbb5c6a422350a8ed3": {
          "model_module": "@jupyter-widgets/controls",
          "model_name": "HBoxModel",
          "model_module_version": "1.5.0",
          "state": {
            "_dom_classes": [],
            "_model_module": "@jupyter-widgets/controls",
            "_model_module_version": "1.5.0",
            "_model_name": "HBoxModel",
            "_view_count": null,
            "_view_module": "@jupyter-widgets/controls",
            "_view_module_version": "1.5.0",
            "_view_name": "HBoxView",
            "box_style": "",
            "children": [
              "IPY_MODEL_7fd1b441439041b4966116ebbbfb592c",
              "IPY_MODEL_bffc9472065645d5b9718ef33f6ca6ad",
              "IPY_MODEL_58e7b01913404bf69b150c64464aa0ee"
            ],
            "layout": "IPY_MODEL_37ce54e6c84b43dba6e8ad5fb4e5495d"
          }
        },
        "7fd1b441439041b4966116ebbbfb592c": {
          "model_module": "@jupyter-widgets/controls",
          "model_name": "HTMLModel",
          "model_module_version": "1.5.0",
          "state": {
            "_dom_classes": [],
            "_model_module": "@jupyter-widgets/controls",
            "_model_module_version": "1.5.0",
            "_model_name": "HTMLModel",
            "_view_count": null,
            "_view_module": "@jupyter-widgets/controls",
            "_view_module_version": "1.5.0",
            "_view_name": "HTMLView",
            "description": "",
            "description_tooltip": null,
            "layout": "IPY_MODEL_17b099348cd3475b8b5887676ad89f24",
            "placeholder": "​",
            "style": "IPY_MODEL_3aeb349c516d4f77afb3c9d47ecd3e97",
            "value": "100%"
          }
        },
        "bffc9472065645d5b9718ef33f6ca6ad": {
          "model_module": "@jupyter-widgets/controls",
          "model_name": "FloatProgressModel",
          "model_module_version": "1.5.0",
          "state": {
            "_dom_classes": [],
            "_model_module": "@jupyter-widgets/controls",
            "_model_module_version": "1.5.0",
            "_model_name": "FloatProgressModel",
            "_view_count": null,
            "_view_module": "@jupyter-widgets/controls",
            "_view_module_version": "1.5.0",
            "_view_name": "ProgressView",
            "bar_style": "success",
            "description": "",
            "description_tooltip": null,
            "layout": "IPY_MODEL_a60922060b964606a34f4a1e091ba05a",
            "max": 41,
            "min": 0,
            "orientation": "horizontal",
            "style": "IPY_MODEL_06d83b6c591a48e689e0c482d79625d2",
            "value": 41
          }
        },
        "58e7b01913404bf69b150c64464aa0ee": {
          "model_module": "@jupyter-widgets/controls",
          "model_name": "HTMLModel",
          "model_module_version": "1.5.0",
          "state": {
            "_dom_classes": [],
            "_model_module": "@jupyter-widgets/controls",
            "_model_module_version": "1.5.0",
            "_model_name": "HTMLModel",
            "_view_count": null,
            "_view_module": "@jupyter-widgets/controls",
            "_view_module_version": "1.5.0",
            "_view_name": "HTMLView",
            "description": "",
            "description_tooltip": null,
            "layout": "IPY_MODEL_4f8cef7dde454ac7b52002cf067897fe",
            "placeholder": "​",
            "style": "IPY_MODEL_dc35cfe338ff48f980ed8e726e6d051c",
            "value": " 41/41 [00:14&lt;00:00,  2.90it/s]"
          }
        },
        "37ce54e6c84b43dba6e8ad5fb4e5495d": {
          "model_module": "@jupyter-widgets/base",
          "model_name": "LayoutModel",
          "model_module_version": "1.2.0",
          "state": {
            "_model_module": "@jupyter-widgets/base",
            "_model_module_version": "1.2.0",
            "_model_name": "LayoutModel",
            "_view_count": null,
            "_view_module": "@jupyter-widgets/base",
            "_view_module_version": "1.2.0",
            "_view_name": "LayoutView",
            "align_content": null,
            "align_items": null,
            "align_self": null,
            "border": null,
            "bottom": null,
            "display": null,
            "flex": null,
            "flex_flow": null,
            "grid_area": null,
            "grid_auto_columns": null,
            "grid_auto_flow": null,
            "grid_auto_rows": null,
            "grid_column": null,
            "grid_gap": null,
            "grid_row": null,
            "grid_template_areas": null,
            "grid_template_columns": null,
            "grid_template_rows": null,
            "height": null,
            "justify_content": null,
            "justify_items": null,
            "left": null,
            "margin": null,
            "max_height": null,
            "max_width": null,
            "min_height": null,
            "min_width": null,
            "object_fit": null,
            "object_position": null,
            "order": null,
            "overflow": null,
            "overflow_x": null,
            "overflow_y": null,
            "padding": null,
            "right": null,
            "top": null,
            "visibility": null,
            "width": null
          }
        },
        "17b099348cd3475b8b5887676ad89f24": {
          "model_module": "@jupyter-widgets/base",
          "model_name": "LayoutModel",
          "model_module_version": "1.2.0",
          "state": {
            "_model_module": "@jupyter-widgets/base",
            "_model_module_version": "1.2.0",
            "_model_name": "LayoutModel",
            "_view_count": null,
            "_view_module": "@jupyter-widgets/base",
            "_view_module_version": "1.2.0",
            "_view_name": "LayoutView",
            "align_content": null,
            "align_items": null,
            "align_self": null,
            "border": null,
            "bottom": null,
            "display": null,
            "flex": null,
            "flex_flow": null,
            "grid_area": null,
            "grid_auto_columns": null,
            "grid_auto_flow": null,
            "grid_auto_rows": null,
            "grid_column": null,
            "grid_gap": null,
            "grid_row": null,
            "grid_template_areas": null,
            "grid_template_columns": null,
            "grid_template_rows": null,
            "height": null,
            "justify_content": null,
            "justify_items": null,
            "left": null,
            "margin": null,
            "max_height": null,
            "max_width": null,
            "min_height": null,
            "min_width": null,
            "object_fit": null,
            "object_position": null,
            "order": null,
            "overflow": null,
            "overflow_x": null,
            "overflow_y": null,
            "padding": null,
            "right": null,
            "top": null,
            "visibility": null,
            "width": null
          }
        },
        "3aeb349c516d4f77afb3c9d47ecd3e97": {
          "model_module": "@jupyter-widgets/controls",
          "model_name": "DescriptionStyleModel",
          "model_module_version": "1.5.0",
          "state": {
            "_model_module": "@jupyter-widgets/controls",
            "_model_module_version": "1.5.0",
            "_model_name": "DescriptionStyleModel",
            "_view_count": null,
            "_view_module": "@jupyter-widgets/base",
            "_view_module_version": "1.2.0",
            "_view_name": "StyleView",
            "description_width": ""
          }
        },
        "a60922060b964606a34f4a1e091ba05a": {
          "model_module": "@jupyter-widgets/base",
          "model_name": "LayoutModel",
          "model_module_version": "1.2.0",
          "state": {
            "_model_module": "@jupyter-widgets/base",
            "_model_module_version": "1.2.0",
            "_model_name": "LayoutModel",
            "_view_count": null,
            "_view_module": "@jupyter-widgets/base",
            "_view_module_version": "1.2.0",
            "_view_name": "LayoutView",
            "align_content": null,
            "align_items": null,
            "align_self": null,
            "border": null,
            "bottom": null,
            "display": null,
            "flex": null,
            "flex_flow": null,
            "grid_area": null,
            "grid_auto_columns": null,
            "grid_auto_flow": null,
            "grid_auto_rows": null,
            "grid_column": null,
            "grid_gap": null,
            "grid_row": null,
            "grid_template_areas": null,
            "grid_template_columns": null,
            "grid_template_rows": null,
            "height": null,
            "justify_content": null,
            "justify_items": null,
            "left": null,
            "margin": null,
            "max_height": null,
            "max_width": null,
            "min_height": null,
            "min_width": null,
            "object_fit": null,
            "object_position": null,
            "order": null,
            "overflow": null,
            "overflow_x": null,
            "overflow_y": null,
            "padding": null,
            "right": null,
            "top": null,
            "visibility": null,
            "width": null
          }
        },
        "06d83b6c591a48e689e0c482d79625d2": {
          "model_module": "@jupyter-widgets/controls",
          "model_name": "ProgressStyleModel",
          "model_module_version": "1.5.0",
          "state": {
            "_model_module": "@jupyter-widgets/controls",
            "_model_module_version": "1.5.0",
            "_model_name": "ProgressStyleModel",
            "_view_count": null,
            "_view_module": "@jupyter-widgets/base",
            "_view_module_version": "1.2.0",
            "_view_name": "StyleView",
            "bar_color": null,
            "description_width": ""
          }
        },
        "4f8cef7dde454ac7b52002cf067897fe": {
          "model_module": "@jupyter-widgets/base",
          "model_name": "LayoutModel",
          "model_module_version": "1.2.0",
          "state": {
            "_model_module": "@jupyter-widgets/base",
            "_model_module_version": "1.2.0",
            "_model_name": "LayoutModel",
            "_view_count": null,
            "_view_module": "@jupyter-widgets/base",
            "_view_module_version": "1.2.0",
            "_view_name": "LayoutView",
            "align_content": null,
            "align_items": null,
            "align_self": null,
            "border": null,
            "bottom": null,
            "display": null,
            "flex": null,
            "flex_flow": null,
            "grid_area": null,
            "grid_auto_columns": null,
            "grid_auto_flow": null,
            "grid_auto_rows": null,
            "grid_column": null,
            "grid_gap": null,
            "grid_row": null,
            "grid_template_areas": null,
            "grid_template_columns": null,
            "grid_template_rows": null,
            "height": null,
            "justify_content": null,
            "justify_items": null,
            "left": null,
            "margin": null,
            "max_height": null,
            "max_width": null,
            "min_height": null,
            "min_width": null,
            "object_fit": null,
            "object_position": null,
            "order": null,
            "overflow": null,
            "overflow_x": null,
            "overflow_y": null,
            "padding": null,
            "right": null,
            "top": null,
            "visibility": null,
            "width": null
          }
        },
        "dc35cfe338ff48f980ed8e726e6d051c": {
          "model_module": "@jupyter-widgets/controls",
          "model_name": "DescriptionStyleModel",
          "model_module_version": "1.5.0",
          "state": {
            "_model_module": "@jupyter-widgets/controls",
            "_model_module_version": "1.5.0",
            "_model_name": "DescriptionStyleModel",
            "_view_count": null,
            "_view_module": "@jupyter-widgets/base",
            "_view_module_version": "1.2.0",
            "_view_name": "StyleView",
            "description_width": ""
          }
        }
      }
    }
  },
  "nbformat": 4,
  "nbformat_minor": 5
}