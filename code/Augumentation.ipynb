{
  "cells": [
    {
      "cell_type": "markdown",
      "metadata": {
        "id": "view-in-github",
        "colab_type": "text"
      },
      "source": [
        "<a href=\"https://colab.research.google.com/github/Dromedara/AI-treaning/blob/main/code/Augumentation.ipynb\" target=\"_parent\"><img src=\"https://colab.research.google.com/assets/colab-badge.svg\" alt=\"Open In Colab\"/></a>"
      ]
    },
    {
      "cell_type": "code",
      "execution_count": 1,
      "metadata": {
        "colab": {
          "base_uri": "https://localhost:8080/"
        },
        "id": "mQDgv_B7qONf",
        "outputId": "bdf26468-8b06-49f0-8d92-88f99ae3146f"
      },
      "outputs": [
        {
          "output_type": "stream",
          "name": "stdout",
          "text": [
            "Mounted at drive\n"
          ]
        }
      ],
      "source": [
        "# 1\n",
        "\n",
        "from google.colab import drive\n",
        "drive.mount('drive')"
      ]
    },
    {
      "cell_type": "code",
      "execution_count": 2,
      "metadata": {
        "colab": {
          "base_uri": "https://localhost:8080/"
        },
        "id": "tCrIUf_EqoYu",
        "outputId": "0346d08b-8f65-4950-a35b-e61dbbd0e01f"
      },
      "outputs": [
        {
          "output_type": "stream",
          "name": "stdout",
          "text": [
            "/\n"
          ]
        }
      ],
      "source": [
        "# 2\n",
        "\n",
        "%cd .."
      ]
    },
    {
      "cell_type": "code",
      "execution_count": 16,
      "metadata": {
        "id": "9F6IQAq3pP0A"
      },
      "outputs": [],
      "source": [
        "# 3\n",
        "\n",
        "from tensorflow.keras.preprocessing import image\n",
        "import matplotlib.pyplot as plt\n",
        "from tensorflow.keras.preprocessing.image import ImageDataGenerator\n",
        "\n",
        "def get_image_augm(img_path, datagen):\n",
        "    img = image.load_img(img_path, target_size=(1000,1500))\n",
        "    x = image.img_to_array(img)\n",
        "    x = x.reshape((1,) + x.shape) \n",
        "\n",
        "    fig, axes = plt.subplots(1, 2, figsize=(45,15))\n",
        "    for i, batch in enumerate(datagen.flow(x, batch_size=1)):\n",
        "        #print(axes[i])\n",
        "        axes[i].imshow(image.array_to_img(batch[0]))\n",
        "        axes[i].axis('off')\n",
        "        if i == 1:\n",
        "          break"
      ]
    },
    {
      "cell_type": "code",
      "execution_count": null,
      "metadata": {
        "id": "AA_6rMa0qLYw"
      },
      "outputs": [],
      "source": [
        "# 4\n",
        "\n",
        "img_path = './content/drive/MyDrive/VisionProject/Pre-Dataset/0481.jpg'\n",
        "\n",
        "for i in range (10, 360, 50):\n",
        "  datagen = ImageDataGenerator(\n",
        "     rescale=1./255, \n",
        "     rotation_range=70\n",
        "  )\n",
        "  get_image_augm(img_path, datagen)"
      ]
    },
    {
      "cell_type": "code",
      "source": [
        "# 5\n",
        "\n",
        "img_path = './content/drive/MyDrive/VisionProject/Pre-Dataset/0481.jpg'\n",
        "\n",
        "for i in range (10, 360, 50):\n",
        "  datagen = ImageDataGenerator( \n",
        "      rescale=1./255, \n",
        "      width_shift_range=0.25\n",
        "      )\n",
        "  get_image_augm(img_path, datagen)\n"
      ],
      "metadata": {
        "id": "JqPl12zmwT2q"
      },
      "execution_count": null,
      "outputs": []
    },
    {
      "cell_type": "code",
      "source": [
        "# 6\n",
        "\n",
        "img_path = './content/drive/MyDrive/VisionProject/Pre-Dataset/img_1.png'\n",
        "\n",
        "for i in range (10, 360, 10):\n",
        "  datagen = ImageDataGenerator( \n",
        "      rescale=1./255, \n",
        "      height_shift_range=.25\n",
        "      )\n",
        "  get_image_augm(img_path, datagen)"
      ],
      "metadata": {
        "id": "BXeL7lSrwVYg"
      },
      "execution_count": null,
      "outputs": []
    },
    {
      "cell_type": "code",
      "source": [
        "# 7\n",
        "\n",
        "img_path = './content/drive/MyDrive/VisionProject/Pre-Dataset/img_1.png'\n",
        "\n",
        "\n",
        "for i in range (10, 360, 10):\n",
        "  datagen = ImageDataGenerator( \n",
        "      rescale=1./255, \n",
        "      brightness_range=(.1, .5), \n",
        "      channel_shift_range=220\n",
        "      )\n",
        "  \n",
        "  get_image_augm(img_path, datagen)"
      ],
      "metadata": {
        "id": "q5wTCjgVwqPo"
      },
      "execution_count": null,
      "outputs": []
    }
  ],
  "metadata": {
    "colab": {
      "collapsed_sections": [],
      "name": "Augumentation.ipynb",
      "provenance": [],
      "include_colab_link": true
    },
    "kernelspec": {
      "display_name": "Python 3",
      "name": "python3"
    }
  },
  "nbformat": 4,
  "nbformat_minor": 0
}